{
 "cells": [
  {
   "cell_type": "markdown",
   "metadata": {},
   "source": [
    "## Verilerin istatistiksel olarak incelemesi ve aykırı değerlerin ayıklanması"
   ]
  },
  {
   "cell_type": "markdown",
   "metadata": {},
   "source": [
    "### Paketlerin yüklenmesi"
   ]
  },
  {
   "cell_type": "code",
   "execution_count": 37,
   "metadata": {},
   "outputs": [],
   "source": [
    "import numpy as np\n",
    "import pandas as pd\n",
    "import matplotlib.pyplot as plt"
   ]
  },
  {
   "cell_type": "markdown",
   "metadata": {},
   "source": [
    "### verilerin yüklenmesi"
   ]
  },
  {
   "cell_type": "code",
   "execution_count": 38,
   "metadata": {},
   "outputs": [
    {
     "name": "stdout",
     "output_type": "stream",
     "text": [
      "<class 'pandas.core.frame.DataFrame'>\n",
      "RangeIndex: 3002 entries, 0 to 3001\n",
      "Data columns (total 7 columns):\n",
      " #   Column        Non-Null Count  Dtype  \n",
      "---  ------        --------------  -----  \n",
      " 0   city          3002 non-null   object \n",
      " 1   district      3002 non-null   object \n",
      " 2   neighborhood  3002 non-null   object \n",
      " 3   square_meter  3002 non-null   float64\n",
      " 4   gold_gr       3002 non-null   float64\n",
      " 5   type          3002 non-null   int64  \n",
      " 6   total_gold    3002 non-null   float64\n",
      "dtypes: float64(3), int64(1), object(3)\n",
      "memory usage: 164.3+ KB\n",
      "None\n"
     ]
    }
   ],
   "source": [
    "df=pd.read_csv('data/data.csv')\n",
    "print(df.info())"
   ]
  },
  {
   "cell_type": "code",
   "execution_count": 39,
   "metadata": {},
   "outputs": [],
   "source": [
    "df['city']=df['city'].astype('category')\n",
    "df['district']=df['district'].astype('category')\n",
    "df['neighborhood']=df['neighborhood'].astype('category')\n",
    "df['type']=df['type'].astype('category')"
   ]
  },
  {
   "cell_type": "code",
   "execution_count": 40,
   "metadata": {},
   "outputs": [
    {
     "name": "stdout",
     "output_type": "stream",
     "text": [
      "<class 'pandas.core.frame.DataFrame'>\n",
      "RangeIndex: 3002 entries, 0 to 3001\n",
      "Data columns (total 7 columns):\n",
      " #   Column        Non-Null Count  Dtype   \n",
      "---  ------        --------------  -----   \n",
      " 0   city          3002 non-null   category\n",
      " 1   district      3002 non-null   category\n",
      " 2   neighborhood  3002 non-null   category\n",
      " 3   square_meter  3002 non-null   float64 \n",
      " 4   gold_gr       3002 non-null   float64 \n",
      " 5   type          3002 non-null   category\n",
      " 6   total_gold    3002 non-null   float64 \n",
      "dtypes: category(4), float64(3)\n",
      "memory usage: 106.7 KB\n"
     ]
    }
   ],
   "source": [
    "df.info()"
   ]
  },
  {
   "cell_type": "markdown",
   "metadata": {},
   "source": [
    "### numeric değişkenlerin minimumi maximum ve çeyreklik değerlerinin bulunması."
   ]
  },
  {
   "cell_type": "code",
   "execution_count": 41,
   "metadata": {},
   "outputs": [],
   "source": [
    "df = df.drop('total_gold', axis=1)\n"
   ]
  },
  {
   "cell_type": "code",
   "execution_count": 42,
   "metadata": {},
   "outputs": [
    {
     "name": "stdout",
     "output_type": "stream",
     "text": [
      "<class 'pandas.core.frame.DataFrame'>\n",
      "RangeIndex: 3002 entries, 0 to 3001\n",
      "Data columns (total 6 columns):\n",
      " #   Column        Non-Null Count  Dtype   \n",
      "---  ------        --------------  -----   \n",
      " 0   city          3002 non-null   category\n",
      " 1   district      3002 non-null   category\n",
      " 2   neighborhood  3002 non-null   category\n",
      " 3   square_meter  3002 non-null   float64 \n",
      " 4   gold_gr       3002 non-null   float64 \n",
      " 5   type          3002 non-null   category\n",
      "dtypes: category(4), float64(2)\n",
      "memory usage: 83.2 KB\n"
     ]
    }
   ],
   "source": [
    "df.info()"
   ]
  },
  {
   "cell_type": "code",
   "execution_count": 43,
   "metadata": {},
   "outputs": [],
   "source": [
    "columns=df.select_dtypes(include=np.number).columns"
   ]
  },
  {
   "cell_type": "code",
   "execution_count": 44,
   "metadata": {},
   "outputs": [
    {
     "name": "stdout",
     "output_type": "stream",
     "text": [
      "Index(['square_meter', 'gold_gr'], dtype='object')\n"
     ]
    }
   ],
   "source": [
    "print(columns)"
   ]
  },
  {
   "cell_type": "code",
   "execution_count": 45,
   "metadata": {},
   "outputs": [
    {
     "name": "stdout",
     "output_type": "stream",
     "text": [
      "Column: square_meter min:-2312.5 max: 4587.5\n",
      "Column: gold_gr min:-8.534697418412648 max: 16.634642296766675\n"
     ]
    }
   ],
   "source": [
    "min_values=[]\n",
    "max_values=[]\n",
    "for col in columns:\n",
    "    Q1=df[col].quantile(0.25)\n",
    "    Q3=df[col].quantile(0.75)\n",
    "    IQR=Q3-Q1\n",
    "    min_value=Q1-1.5*IQR\n",
    "    max_value=Q3+1.5*IQR\n",
    "    min_values.append(min_value)\n",
    "    max_values.append(max_value)\n",
    "    print(f\"Column: {col} min:{min_value} max: {max_value}\")\n"
   ]
  },
  {
   "cell_type": "markdown",
   "metadata": {},
   "source": [
    "### Aykırı değerlerin düzenlenmesi\n"
   ]
  },
  {
   "cell_type": "code",
   "execution_count": 46,
   "metadata": {},
   "outputs": [
    {
     "name": "stdout",
     "output_type": "stream",
     "text": [
      "square_meter -2312.5 4587.5\n",
      "gold_gr -8.534697418412648 16.634642296766675\n"
     ]
    }
   ],
   "source": [
    "for i, col in enumerate(columns):\n",
    "    df=df[(df[col]>=min_values[i])&(df[col]<=max_values[i])]\n",
    "    print(col, min_values[i],max_values[i])"
   ]
  },
  {
   "cell_type": "code",
   "execution_count": 47,
   "metadata": {},
   "outputs": [
    {
     "name": "stdout",
     "output_type": "stream",
     "text": [
      "<class 'pandas.core.frame.DataFrame'>\n",
      "Index: 2294 entries, 1 to 3001\n",
      "Data columns (total 6 columns):\n",
      " #   Column        Non-Null Count  Dtype   \n",
      "---  ------        --------------  -----   \n",
      " 0   city          2294 non-null   category\n",
      " 1   district      2294 non-null   category\n",
      " 2   neighborhood  2294 non-null   category\n",
      " 3   square_meter  2294 non-null   float64 \n",
      " 4   gold_gr       2294 non-null   float64 \n",
      " 5   type          2294 non-null   category\n",
      "dtypes: category(4), float64(2)\n",
      "memory usage: 86.5 KB\n"
     ]
    }
   ],
   "source": [
    "df.info()"
   ]
  },
  {
   "cell_type": "code",
   "execution_count": 48,
   "metadata": {},
   "outputs": [
    {
     "data": {
      "text/html": [
       "<div>\n",
       "<style scoped>\n",
       "    .dataframe tbody tr th:only-of-type {\n",
       "        vertical-align: middle;\n",
       "    }\n",
       "\n",
       "    .dataframe tbody tr th {\n",
       "        vertical-align: top;\n",
       "    }\n",
       "\n",
       "    .dataframe thead th {\n",
       "        text-align: right;\n",
       "    }\n",
       "</style>\n",
       "<table border=\"1\" class=\"dataframe\">\n",
       "  <thead>\n",
       "    <tr style=\"text-align: right;\">\n",
       "      <th></th>\n",
       "      <th>square_meter</th>\n",
       "      <th>gold_gr</th>\n",
       "    </tr>\n",
       "  </thead>\n",
       "  <tbody>\n",
       "    <tr>\n",
       "      <th>count</th>\n",
       "      <td>2294.000000</td>\n",
       "      <td>2.294000e+03</td>\n",
       "    </tr>\n",
       "    <tr>\n",
       "      <th>mean</th>\n",
       "      <td>894.985615</td>\n",
       "      <td>4.164871e+00</td>\n",
       "    </tr>\n",
       "    <tr>\n",
       "      <th>std</th>\n",
       "      <td>991.487572</td>\n",
       "      <td>3.920704e+00</td>\n",
       "    </tr>\n",
       "    <tr>\n",
       "      <th>min</th>\n",
       "      <td>1.000000</td>\n",
       "      <td>3.149243e-07</td>\n",
       "    </tr>\n",
       "    <tr>\n",
       "      <th>25%</th>\n",
       "      <td>258.000000</td>\n",
       "      <td>1.030090e+00</td>\n",
       "    </tr>\n",
       "    <tr>\n",
       "      <th>50%</th>\n",
       "      <td>500.000000</td>\n",
       "      <td>2.756926e+00</td>\n",
       "    </tr>\n",
       "    <tr>\n",
       "      <th>75%</th>\n",
       "      <td>1042.750000</td>\n",
       "      <td>6.412980e+00</td>\n",
       "    </tr>\n",
       "    <tr>\n",
       "      <th>max</th>\n",
       "      <td>4560.000000</td>\n",
       "      <td>1.654014e+01</td>\n",
       "    </tr>\n",
       "  </tbody>\n",
       "</table>\n",
       "</div>"
      ],
      "text/plain": [
       "       square_meter       gold_gr\n",
       "count   2294.000000  2.294000e+03\n",
       "mean     894.985615  4.164871e+00\n",
       "std      991.487572  3.920704e+00\n",
       "min        1.000000  3.149243e-07\n",
       "25%      258.000000  1.030090e+00\n",
       "50%      500.000000  2.756926e+00\n",
       "75%     1042.750000  6.412980e+00\n",
       "max     4560.000000  1.654014e+01"
      ]
     },
     "execution_count": 48,
     "metadata": {},
     "output_type": "execute_result"
    }
   ],
   "source": [
    "df.describe()"
   ]
  },
  {
   "cell_type": "code",
   "execution_count": 50,
   "metadata": {},
   "outputs": [],
   "source": [
    "df=df[df['square_meter']>=10]\n",
    "df=df[df['gold_gr']>=0.001]"
   ]
  },
  {
   "cell_type": "code",
   "execution_count": 51,
   "metadata": {},
   "outputs": [
    {
     "name": "stdout",
     "output_type": "stream",
     "text": [
      "<class 'pandas.core.frame.DataFrame'>\n",
      "Index: 2278 entries, 1 to 3001\n",
      "Data columns (total 6 columns):\n",
      " #   Column        Non-Null Count  Dtype   \n",
      "---  ------        --------------  -----   \n",
      " 0   city          2278 non-null   category\n",
      " 1   district      2278 non-null   category\n",
      " 2   neighborhood  2278 non-null   category\n",
      " 3   square_meter  2278 non-null   float64 \n",
      " 4   gold_gr       2278 non-null   float64 \n",
      " 5   type          2278 non-null   category\n",
      "dtypes: category(4), float64(2)\n",
      "memory usage: 86.0 KB\n"
     ]
    },
    {
     "data": {
      "text/html": [
       "<div>\n",
       "<style scoped>\n",
       "    .dataframe tbody tr th:only-of-type {\n",
       "        vertical-align: middle;\n",
       "    }\n",
       "\n",
       "    .dataframe tbody tr th {\n",
       "        vertical-align: top;\n",
       "    }\n",
       "\n",
       "    .dataframe thead th {\n",
       "        text-align: right;\n",
       "    }\n",
       "</style>\n",
       "<table border=\"1\" class=\"dataframe\">\n",
       "  <thead>\n",
       "    <tr style=\"text-align: right;\">\n",
       "      <th></th>\n",
       "      <th>square_meter</th>\n",
       "      <th>gold_gr</th>\n",
       "    </tr>\n",
       "  </thead>\n",
       "  <tbody>\n",
       "    <tr>\n",
       "      <th>count</th>\n",
       "      <td>2278.000000</td>\n",
       "      <td>2278.000000</td>\n",
       "    </tr>\n",
       "    <tr>\n",
       "      <th>mean</th>\n",
       "      <td>895.222564</td>\n",
       "      <td>4.163832</td>\n",
       "    </tr>\n",
       "    <tr>\n",
       "      <th>std</th>\n",
       "      <td>990.504914</td>\n",
       "      <td>3.906060</td>\n",
       "    </tr>\n",
       "    <tr>\n",
       "      <th>min</th>\n",
       "      <td>11.000000</td>\n",
       "      <td>0.001773</td>\n",
       "    </tr>\n",
       "    <tr>\n",
       "      <th>25%</th>\n",
       "      <td>260.000000</td>\n",
       "      <td>1.040728</td>\n",
       "    </tr>\n",
       "    <tr>\n",
       "      <th>50%</th>\n",
       "      <td>500.000000</td>\n",
       "      <td>2.759588</td>\n",
       "    </tr>\n",
       "    <tr>\n",
       "      <th>75%</th>\n",
       "      <td>1042.750000</td>\n",
       "      <td>6.402820</td>\n",
       "    </tr>\n",
       "    <tr>\n",
       "      <th>max</th>\n",
       "      <td>4560.000000</td>\n",
       "      <td>16.540140</td>\n",
       "    </tr>\n",
       "  </tbody>\n",
       "</table>\n",
       "</div>"
      ],
      "text/plain": [
       "       square_meter      gold_gr\n",
       "count   2278.000000  2278.000000\n",
       "mean     895.222564     4.163832\n",
       "std      990.504914     3.906060\n",
       "min       11.000000     0.001773\n",
       "25%      260.000000     1.040728\n",
       "50%      500.000000     2.759588\n",
       "75%     1042.750000     6.402820\n",
       "max     4560.000000    16.540140"
      ]
     },
     "execution_count": 51,
     "metadata": {},
     "output_type": "execute_result"
    }
   ],
   "source": [
    "df.info()\n",
    "df.describe()"
   ]
  },
  {
   "cell_type": "code",
   "execution_count": 53,
   "metadata": {},
   "outputs": [],
   "source": [
    "df.to_csv('data/clean_data.csv', index=False)"
   ]
  }
 ],
 "metadata": {
  "kernelspec": {
   "display_name": "base",
   "language": "python",
   "name": "python3"
  },
  "language_info": {
   "codemirror_mode": {
    "name": "ipython",
    "version": 3
   },
   "file_extension": ".py",
   "mimetype": "text/x-python",
   "name": "python",
   "nbconvert_exporter": "python",
   "pygments_lexer": "ipython3",
   "version": "3.12.7"
  }
 },
 "nbformat": 4,
 "nbformat_minor": 2
}

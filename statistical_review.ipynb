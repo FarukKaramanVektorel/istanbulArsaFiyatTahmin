{
 "cells": [
  {
   "cell_type": "markdown",
   "metadata": {},
   "source": [
    "## Verilerin istatistiksel olarak incelemesi ve aykırı değerlerin ayıklanması"
   ]
  },
  {
   "cell_type": "markdown",
   "metadata": {},
   "source": [
    "### Paketlerin yüklenmesi"
   ]
  },
  {
   "cell_type": "code",
   "execution_count": 1,
   "metadata": {},
   "outputs": [],
   "source": [
    "import numpy as np\n",
    "import pandas as pd\n",
    "import matplotlib.pyplot as plt"
   ]
  },
  {
   "cell_type": "markdown",
   "metadata": {},
   "source": [
    "### verilerin yüklenmesi"
   ]
  },
  {
   "cell_type": "code",
   "execution_count": 3,
   "metadata": {},
   "outputs": [
    {
     "name": "stdout",
     "output_type": "stream",
     "text": [
      "<class 'pandas.core.frame.DataFrame'>\n",
      "RangeIndex: 3002 entries, 0 to 3001\n",
      "Data columns (total 7 columns):\n",
      " #   Column        Non-Null Count  Dtype  \n",
      "---  ------        --------------  -----  \n",
      " 0   city          3002 non-null   object \n",
      " 1   district      3002 non-null   object \n",
      " 2   neighborhood  3002 non-null   object \n",
      " 3   square_meter  3002 non-null   float64\n",
      " 4   gold_gr       3002 non-null   float64\n",
      " 5   type          3002 non-null   int64  \n",
      " 6   total_gold    3002 non-null   float64\n",
      "dtypes: float64(3), int64(1), object(3)\n",
      "memory usage: 164.3+ KB\n",
      "None\n"
     ]
    }
   ],
   "source": [
    "df=pd.read_csv('data/data.csv')\n",
    "print(df.info())"
   ]
  },
  {
   "cell_type": "code",
   "execution_count": 9,
   "metadata": {},
   "outputs": [],
   "source": [
    "df['city']=df['city'].astype('category')\n",
    "df['district']=df['district'].astype('category')\n",
    "df['neighborhood']=df['neighborhood'].astype('category')\n",
    "df['type']=df['type'].astype('category')"
   ]
  },
  {
   "cell_type": "code",
   "execution_count": 10,
   "metadata": {},
   "outputs": [
    {
     "name": "stdout",
     "output_type": "stream",
     "text": [
      "<class 'pandas.core.frame.DataFrame'>\n",
      "RangeIndex: 3002 entries, 0 to 3001\n",
      "Data columns (total 7 columns):\n",
      " #   Column        Non-Null Count  Dtype   \n",
      "---  ------        --------------  -----   \n",
      " 0   city          3002 non-null   category\n",
      " 1   district      3002 non-null   category\n",
      " 2   neighborhood  3002 non-null   category\n",
      " 3   square_meter  3002 non-null   float64 \n",
      " 4   gold_gr       3002 non-null   float64 \n",
      " 5   type          3002 non-null   category\n",
      " 6   total_gold    3002 non-null   float64 \n",
      "dtypes: category(4), float64(3)\n",
      "memory usage: 106.7 KB\n"
     ]
    }
   ],
   "source": [
    "df.info()"
   ]
  },
  {
   "cell_type": "markdown",
   "metadata": {},
   "source": [
    "### numeric değişkenlerin minimumi maximum ve çeyreklik değerlerinin bulunması."
   ]
  },
  {
   "cell_type": "code",
   "execution_count": 11,
   "metadata": {},
   "outputs": [],
   "source": [
    "columns=df.select_dtypes(include=np.number).columns"
   ]
  },
  {
   "cell_type": "code",
   "execution_count": 12,
   "metadata": {},
   "outputs": [
    {
     "name": "stdout",
     "output_type": "stream",
     "text": [
      "Index(['square_meter', 'gold_gr', 'total_gold'], dtype='object')\n"
     ]
    }
   ],
   "source": [
    "print(columns)"
   ]
  },
  {
   "cell_type": "code",
   "execution_count": null,
   "metadata": {},
   "outputs": [],
   "source": [
    "min_values=[]\n",
    "max_values=[]\n",
    "for col in columns:\n",
    "    Q1=df[col].quantile(0.25)\n",
    "    Q3=df[col].quantile(0.75)\n",
    "    IQR=Q3-Q1\n",
    "    min_value=Q1-1.5*IQR\n",
    "    max_value=Q3+1.5*IQR\n",
    "    min_values.append(min_value)\n",
    "    max_values.append(max_value)\n",
    "    print(f\"Column: {col} min:{min_value} max: {max_value}\")\n"
   ]
  }
 ],
 "metadata": {
  "kernelspec": {
   "display_name": "base",
   "language": "python",
   "name": "python3"
  },
  "language_info": {
   "codemirror_mode": {
    "name": "ipython",
    "version": 3
   },
   "file_extension": ".py",
   "mimetype": "text/x-python",
   "name": "python",
   "nbconvert_exporter": "python",
   "pygments_lexer": "ipython3",
   "version": "3.12.7"
  }
 },
 "nbformat": 4,
 "nbformat_minor": 2
}

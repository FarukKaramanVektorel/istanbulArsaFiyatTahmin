{
 "cells": [
  {
   "cell_type": "markdown",
   "metadata": {},
   "source": [
    "## Verilerin istatistiksel olarak incelemesi ve aykırı değerlerin ayıklanması"
   ]
  },
  {
   "cell_type": "markdown",
   "metadata": {},
   "source": [
    "### Paketlerin yüklenmesi"
   ]
  },
  {
   "cell_type": "code",
   "execution_count": 1,
   "metadata": {},
   "outputs": [],
   "source": [
    "import numpy as np\n",
    "import pandas as pd\n",
    "import matplotlib.pyplot as plt"
   ]
  },
  {
   "cell_type": "markdown",
   "metadata": {},
   "source": [
    "### verilerin yüklenmesi"
   ]
  },
  {
   "cell_type": "code",
   "execution_count": 3,
   "metadata": {},
   "outputs": [
    {
     "name": "stdout",
     "output_type": "stream",
     "text": [
      "<class 'pandas.core.frame.DataFrame'>\n",
      "RangeIndex: 3002 entries, 0 to 3001\n",
      "Data columns (total 7 columns):\n",
      " #   Column        Non-Null Count  Dtype  \n",
      "---  ------        --------------  -----  \n",
      " 0   city          3002 non-null   object \n",
      " 1   district      3002 non-null   object \n",
      " 2   neighborhood  3002 non-null   object \n",
      " 3   square_meter  3002 non-null   float64\n",
      " 4   gold_gr       3002 non-null   float64\n",
      " 5   type          3002 non-null   int64  \n",
      " 6   total_gold    3002 non-null   float64\n",
      "dtypes: float64(3), int64(1), object(3)\n",
      "memory usage: 164.3+ KB\n",
      "None\n"
     ]
    }
   ],
   "source": [
    "df=pd.read_csv('data/data.csv')\n",
    "print(df.info())"
   ]
  },
  {
   "cell_type": "code",
   "execution_count": 9,
   "metadata": {},
   "outputs": [],
   "source": [
    "df['city']=df['city'].astype('category')\n",
    "df['district']=df['district'].astype('category')\n",
    "df['neighborhood']=df['neighborhood'].astype('category')\n",
    "df['type']=df['type'].astype('category')"
   ]
  },
  {
   "cell_type": "code",
   "execution_count": 10,
   "metadata": {},
   "outputs": [
    {
     "name": "stdout",
     "output_type": "stream",
     "text": [
      "<class 'pandas.core.frame.DataFrame'>\n",
      "RangeIndex: 3002 entries, 0 to 3001\n",
      "Data columns (total 7 columns):\n",
      " #   Column        Non-Null Count  Dtype   \n",
      "---  ------        --------------  -----   \n",
      " 0   city          3002 non-null   category\n",
      " 1   district      3002 non-null   category\n",
      " 2   neighborhood  3002 non-null   category\n",
      " 3   square_meter  3002 non-null   float64 \n",
      " 4   gold_gr       3002 non-null   float64 \n",
      " 5   type          3002 non-null   category\n",
      " 6   total_gold    3002 non-null   float64 \n",
      "dtypes: category(4), float64(3)\n",
      "memory usage: 106.7 KB\n"
     ]
    }
   ],
   "source": [
    "df.info()"
   ]
  },
  {
   "cell_type": "markdown",
   "metadata": {},
   "source": [
    "### numeric değişkenlerin minimumi maximum ve çeyreklik değerlerinin bulunması."
   ]
  },
  {
   "cell_type": "code",
   "execution_count": 11,
   "metadata": {},
   "outputs": [],
   "source": [
    "columns=df.select_dtypes(include=np.number).columns"
   ]
  },
  {
   "cell_type": "code",
   "execution_count": 12,
   "metadata": {},
   "outputs": [
    {
     "name": "stdout",
     "output_type": "stream",
     "text": [
      "Index(['square_meter', 'gold_gr', 'total_gold'], dtype='object')\n"
     ]
    }
   ],
   "source": [
    "print(columns)"
   ]
  },
  {
   "cell_type": "code",
   "execution_count": 13,
   "metadata": {},
   "outputs": [
    {
     "name": "stdout",
     "output_type": "stream",
     "text": [
      "Column: square_meter min:-2312.5 max: 4587.5\n",
      "Column: gold_gr min:-8.534697418412648 max: 16.634642296766675\n",
      "Column: total_gold min:-6888.968203147143 max: 13371.159236203694\n"
     ]
    }
   ],
   "source": [
    "min_values=[]\n",
    "max_values=[]\n",
    "for col in columns:\n",
    "    Q1=df[col].quantile(0.25)\n",
    "    Q3=df[col].quantile(0.75)\n",
    "    IQR=Q3-Q1\n",
    "    min_value=Q1-1.5*IQR\n",
    "    max_value=Q3+1.5*IQR\n",
    "    min_values.append(min_value)\n",
    "    max_values.append(max_value)\n",
    "    print(f\"Column: {col} min:{min_value} max: {max_value}\")\n"
   ]
  },
  {
   "cell_type": "markdown",
   "metadata": {},
   "source": [
    "### Aykırı değerlerin düzenlenmesi\n"
   ]
  },
  {
   "cell_type": "code",
   "execution_count": 17,
   "metadata": {},
   "outputs": [
    {
     "name": "stdout",
     "output_type": "stream",
     "text": [
      "square_meter -2312.5 4587.5\n",
      "gold_gr -8.534697418412648 16.634642296766675\n",
      "total_gold -6888.968203147143 13371.159236203694\n"
     ]
    }
   ],
   "source": [
    "for i, col in enumerate(columns):\n",
    "    df=df[(df[col]>=min_values[i])&(df[col]<=max_values[i])]\n",
    "    print(col, min_values[i],max_values[i])"
   ]
  },
  {
   "cell_type": "code",
   "execution_count": null,
   "metadata": {},
   "outputs": [
    {
     "name": "stdout",
     "output_type": "stream",
     "text": [
      "<class 'pandas.core.frame.DataFrame'>\n",
      "Index: 2202 entries, 1 to 3001\n",
      "Data columns (total 7 columns):\n",
      " #   Column        Non-Null Count  Dtype   \n",
      "---  ------        --------------  -----   \n",
      " 0   city          2202 non-null   category\n",
      " 1   district      2202 non-null   category\n",
      " 2   neighborhood  2202 non-null   category\n",
      " 3   square_meter  2202 non-null   float64 \n",
      " 4   gold_gr       2202 non-null   float64 \n",
      " 5   type          2202 non-null   category\n",
      " 6   total_gold    2202 non-null   float64 \n",
      "dtypes: category(4), float64(3)\n",
      "memory usage: 101.1 KB\n"
     ]
    }
   ],
   "source": [
    "df.info()"
   ]
  },
  {
   "cell_type": "code",
   "execution_count": 19,
   "metadata": {},
   "outputs": [
    {
     "data": {
      "text/html": [
       "<div>\n",
       "<style scoped>\n",
       "    .dataframe tbody tr th:only-of-type {\n",
       "        vertical-align: middle;\n",
       "    }\n",
       "\n",
       "    .dataframe tbody tr th {\n",
       "        vertical-align: top;\n",
       "    }\n",
       "\n",
       "    .dataframe thead th {\n",
       "        text-align: right;\n",
       "    }\n",
       "</style>\n",
       "<table border=\"1\" class=\"dataframe\">\n",
       "  <thead>\n",
       "    <tr style=\"text-align: right;\">\n",
       "      <th></th>\n",
       "      <th>square_meter</th>\n",
       "      <th>gold_gr</th>\n",
       "      <th>total_gold</th>\n",
       "    </tr>\n",
       "  </thead>\n",
       "  <tbody>\n",
       "    <tr>\n",
       "      <th>count</th>\n",
       "      <td>2202.000000</td>\n",
       "      <td>2.202000e+03</td>\n",
       "      <td>2202.000000</td>\n",
       "    </tr>\n",
       "    <tr>\n",
       "      <th>mean</th>\n",
       "      <td>814.420981</td>\n",
       "      <td>3.937902e+00</td>\n",
       "      <td>2182.620745</td>\n",
       "    </tr>\n",
       "    <tr>\n",
       "      <th>std</th>\n",
       "      <td>904.078192</td>\n",
       "      <td>3.774819e+00</td>\n",
       "      <td>2460.467310</td>\n",
       "    </tr>\n",
       "    <tr>\n",
       "      <th>min</th>\n",
       "      <td>1.000000</td>\n",
       "      <td>3.149243e-07</td>\n",
       "      <td>0.000262</td>\n",
       "    </tr>\n",
       "    <tr>\n",
       "      <th>25%</th>\n",
       "      <td>252.250000</td>\n",
       "      <td>1.000257e+00</td>\n",
       "      <td>485.508235</td>\n",
       "    </tr>\n",
       "    <tr>\n",
       "      <th>50%</th>\n",
       "      <td>467.000000</td>\n",
       "      <td>2.579755e+00</td>\n",
       "      <td>1220.331510</td>\n",
       "    </tr>\n",
       "    <tr>\n",
       "      <th>75%</th>\n",
       "      <td>998.750000</td>\n",
       "      <td>6.017023e+00</td>\n",
       "      <td>3132.840302</td>\n",
       "    </tr>\n",
       "    <tr>\n",
       "      <th>max</th>\n",
       "      <td>4553.000000</td>\n",
       "      <td>1.654014e+01</td>\n",
       "      <td>13121.844196</td>\n",
       "    </tr>\n",
       "  </tbody>\n",
       "</table>\n",
       "</div>"
      ],
      "text/plain": [
       "       square_meter       gold_gr    total_gold\n",
       "count   2202.000000  2.202000e+03   2202.000000\n",
       "mean     814.420981  3.937902e+00   2182.620745\n",
       "std      904.078192  3.774819e+00   2460.467310\n",
       "min        1.000000  3.149243e-07      0.000262\n",
       "25%      252.250000  1.000257e+00    485.508235\n",
       "50%      467.000000  2.579755e+00   1220.331510\n",
       "75%      998.750000  6.017023e+00   3132.840302\n",
       "max     4553.000000  1.654014e+01  13121.844196"
      ]
     },
     "execution_count": 19,
     "metadata": {},
     "output_type": "execute_result"
    }
   ],
   "source": [
    "df.describe()"
   ]
  },
  {
   "cell_type": "code",
   "execution_count": 23,
   "metadata": {},
   "outputs": [],
   "source": [
    "df=df[df['square_meter']>=10]\n",
    "df=df[df['total_gold']>=1]"
   ]
  },
  {
   "cell_type": "code",
   "execution_count": 24,
   "metadata": {},
   "outputs": [
    {
     "name": "stdout",
     "output_type": "stream",
     "text": [
      "<class 'pandas.core.frame.DataFrame'>\n",
      "Index: 2181 entries, 1 to 3001\n",
      "Data columns (total 7 columns):\n",
      " #   Column        Non-Null Count  Dtype   \n",
      "---  ------        --------------  -----   \n",
      " 0   city          2181 non-null   category\n",
      " 1   district      2181 non-null   category\n",
      " 2   neighborhood  2181 non-null   category\n",
      " 3   square_meter  2181 non-null   float64 \n",
      " 4   gold_gr       2181 non-null   float64 \n",
      " 5   type          2181 non-null   category\n",
      " 6   total_gold    2181 non-null   float64 \n",
      "dtypes: category(4), float64(3)\n",
      "memory usage: 100.3 KB\n"
     ]
    },
    {
     "data": {
      "text/html": [
       "<div>\n",
       "<style scoped>\n",
       "    .dataframe tbody tr th:only-of-type {\n",
       "        vertical-align: middle;\n",
       "    }\n",
       "\n",
       "    .dataframe tbody tr th {\n",
       "        vertical-align: top;\n",
       "    }\n",
       "\n",
       "    .dataframe thead th {\n",
       "        text-align: right;\n",
       "    }\n",
       "</style>\n",
       "<table border=\"1\" class=\"dataframe\">\n",
       "  <thead>\n",
       "    <tr style=\"text-align: right;\">\n",
       "      <th></th>\n",
       "      <th>square_meter</th>\n",
       "      <th>gold_gr</th>\n",
       "      <th>total_gold</th>\n",
       "    </tr>\n",
       "  </thead>\n",
       "  <tbody>\n",
       "    <tr>\n",
       "      <th>count</th>\n",
       "      <td>2181.000000</td>\n",
       "      <td>2181.000000</td>\n",
       "      <td>2181.000000</td>\n",
       "    </tr>\n",
       "    <tr>\n",
       "      <th>mean</th>\n",
       "      <td>815.683173</td>\n",
       "      <td>3.944171</td>\n",
       "      <td>2203.549731</td>\n",
       "    </tr>\n",
       "    <tr>\n",
       "      <th>std</th>\n",
       "      <td>902.688419</td>\n",
       "      <td>3.757334</td>\n",
       "      <td>2462.978195</td>\n",
       "    </tr>\n",
       "    <tr>\n",
       "      <th>min</th>\n",
       "      <td>11.000000</td>\n",
       "      <td>0.005273</td>\n",
       "      <td>2.309445</td>\n",
       "    </tr>\n",
       "    <tr>\n",
       "      <th>25%</th>\n",
       "      <td>253.000000</td>\n",
       "      <td>1.012257</td>\n",
       "      <td>524.873768</td>\n",
       "    </tr>\n",
       "    <tr>\n",
       "      <th>50%</th>\n",
       "      <td>470.000000</td>\n",
       "      <td>2.600531</td>\n",
       "      <td>1246.575199</td>\n",
       "    </tr>\n",
       "    <tr>\n",
       "      <th>75%</th>\n",
       "      <td>1000.000000</td>\n",
       "      <td>6.010509</td>\n",
       "      <td>3149.242607</td>\n",
       "    </tr>\n",
       "    <tr>\n",
       "      <th>max</th>\n",
       "      <td>4553.000000</td>\n",
       "      <td>16.540140</td>\n",
       "      <td>13121.844196</td>\n",
       "    </tr>\n",
       "  </tbody>\n",
       "</table>\n",
       "</div>"
      ],
      "text/plain": [
       "       square_meter      gold_gr    total_gold\n",
       "count   2181.000000  2181.000000   2181.000000\n",
       "mean     815.683173     3.944171   2203.549731\n",
       "std      902.688419     3.757334   2462.978195\n",
       "min       11.000000     0.005273      2.309445\n",
       "25%      253.000000     1.012257    524.873768\n",
       "50%      470.000000     2.600531   1246.575199\n",
       "75%     1000.000000     6.010509   3149.242607\n",
       "max     4553.000000    16.540140  13121.844196"
      ]
     },
     "execution_count": 24,
     "metadata": {},
     "output_type": "execute_result"
    }
   ],
   "source": [
    "df.info()\n",
    "df.describe()"
   ]
  },
  {
   "cell_type": "code",
   "execution_count": 25,
   "metadata": {},
   "outputs": [],
   "source": [
    "df.to_csv('data/clean_data.csv')"
   ]
  },
  {
   "cell_type": "code",
   "execution_count": null,
   "metadata": {},
   "outputs": [],
   "source": []
  }
 ],
 "metadata": {
  "kernelspec": {
   "display_name": "base",
   "language": "python",
   "name": "python3"
  },
  "language_info": {
   "codemirror_mode": {
    "name": "ipython",
    "version": 3
   },
   "file_extension": ".py",
   "mimetype": "text/x-python",
   "name": "python",
   "nbconvert_exporter": "python",
   "pygments_lexer": "ipython3",
   "version": "3.12.7"
  }
 },
 "nbformat": 4,
 "nbformat_minor": 2
}
